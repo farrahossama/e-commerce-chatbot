{
  "metadata": {
    "kernelspec": {
      "name": "python",
      "display_name": "Python (Pyodide)",
      "language": "python"
    },
    "language_info": {
      "codemirror_mode": {
        "name": "python",
        "version": 3
      },
      "file_extension": ".py",
      "mimetype": "text/x-python",
      "name": "python",
      "nbconvert_exporter": "python",
      "pygments_lexer": "ipython3",
      "version": "3.8"
    },
    "colab": {
      "provenance": []
    },
    "widgets": {
      "application/vnd.jupyter.widget-state+json": {
        "e8470f33091e467f964af183f94c4f25": {
          "model_module": "@jupyter-widgets/controls",
          "model_name": "TextModel",
          "model_module_version": "1.5.0",
          "state": {
            "_dom_classes": [],
            "_model_module": "@jupyter-widgets/controls",
            "_model_module_version": "1.5.0",
            "_model_name": "TextModel",
            "_view_count": null,
            "_view_module": "@jupyter-widgets/controls",
            "_view_module_version": "1.5.0",
            "_view_name": "TextView",
            "continuous_update": true,
            "description": "You:",
            "description_tooltip": null,
            "disabled": false,
            "layout": "IPY_MODEL_029975c290ff490c8ae9d155aad15dbf",
            "placeholder": "Type your message...",
            "style": "IPY_MODEL_3ad68431ede6482988ef0577b5d9813b",
            "value": ""
          }
        },
        "029975c290ff490c8ae9d155aad15dbf": {
          "model_module": "@jupyter-widgets/base",
          "model_name": "LayoutModel",
          "model_module_version": "1.2.0",
          "state": {
            "_model_module": "@jupyter-widgets/base",
            "_model_module_version": "1.2.0",
            "_model_name": "LayoutModel",
            "_view_count": null,
            "_view_module": "@jupyter-widgets/base",
            "_view_module_version": "1.2.0",
            "_view_name": "LayoutView",
            "align_content": null,
            "align_items": null,
            "align_self": null,
            "border": null,
            "bottom": null,
            "display": null,
            "flex": null,
            "flex_flow": null,
            "grid_area": null,
            "grid_auto_columns": null,
            "grid_auto_flow": null,
            "grid_auto_rows": null,
            "grid_column": null,
            "grid_gap": null,
            "grid_row": null,
            "grid_template_areas": null,
            "grid_template_columns": null,
            "grid_template_rows": null,
            "height": null,
            "justify_content": null,
            "justify_items": null,
            "left": null,
            "margin": null,
            "max_height": null,
            "max_width": null,
            "min_height": null,
            "min_width": null,
            "object_fit": null,
            "object_position": null,
            "order": null,
            "overflow": null,
            "overflow_x": null,
            "overflow_y": null,
            "padding": null,
            "right": null,
            "top": null,
            "visibility": null,
            "width": "80%"
          }
        },
        "3ad68431ede6482988ef0577b5d9813b": {
          "model_module": "@jupyter-widgets/controls",
          "model_name": "DescriptionStyleModel",
          "model_module_version": "1.5.0",
          "state": {
            "_model_module": "@jupyter-widgets/controls",
            "_model_module_version": "1.5.0",
            "_model_name": "DescriptionStyleModel",
            "_view_count": null,
            "_view_module": "@jupyter-widgets/base",
            "_view_module_version": "1.2.0",
            "_view_name": "StyleView",
            "description_width": ""
          }
        },
        "ed1efd383bef4ad99041679cf0c3f8a0": {
          "model_module": "@jupyter-widgets/output",
          "model_name": "OutputModel",
          "model_module_version": "1.0.0",
          "state": {
            "_dom_classes": [],
            "_model_module": "@jupyter-widgets/output",
            "_model_module_version": "1.0.0",
            "_model_name": "OutputModel",
            "_view_count": null,
            "_view_module": "@jupyter-widgets/output",
            "_view_module_version": "1.0.0",
            "_view_name": "OutputView",
            "layout": "IPY_MODEL_2c974188607b441b93c67cc07daf38c8",
            "msg_id": "",
            "outputs": [
              {
                "output_type": "stream",
                "name": "stdout",
                "text": [
                  "You: find me all products under $50\n"
                ]
              },
              {
                "output_type": "display_data",
                "data": {
                  "text/plain": "<IPython.core.display.Markdown object>",
                  "text/markdown": "**Bot:**\n\nHere are the products based on your query:\n- Wireless Earbuds ($15.99, Electronics, Delivery: $5.0, Available: True)\n- Bluetooth Speaker ($25.99, Electronics, Delivery: $7.0, Available: True)\n- Coffee Maker ($45.99, Home Appliances, Delivery: $10.0, Available: False)\n- Running Shoes ($19.99, Sports, Delivery: $5.0, Available: True)\n- Yoga Mat ($12.99, Sports, Delivery: $4.0, Available: True)\n- Electric Kettle ($29.99, Home Appliances, Delivery: $6.0, Available: True)\n- Laptop Backpack ($34.99, Accessories, Delivery: $7.0, Available: True)\n- Wireless Mouse ($9.99, Electronics, Delivery: $3.0, Available: True)\n- LED Desk Lamp ($22.99, Home Appliances, Delivery: $5.0, Available: True)\n- Gaming Keyboard ($49.99, Electronics, Delivery: $8.0, Available: True)\n- Water Bottle ($8.99, Accessories, Delivery: $3.0, Available: True)\n- Blender ($39.99, Home Appliances, Delivery: $9.0, Available: True)\n"
                },
                "metadata": {}
              }
            ]
          }
        },
        "2c974188607b441b93c67cc07daf38c8": {
          "model_module": "@jupyter-widgets/base",
          "model_name": "LayoutModel",
          "model_module_version": "1.2.0",
          "state": {
            "_model_module": "@jupyter-widgets/base",
            "_model_module_version": "1.2.0",
            "_model_name": "LayoutModel",
            "_view_count": null,
            "_view_module": "@jupyter-widgets/base",
            "_view_module_version": "1.2.0",
            "_view_name": "LayoutView",
            "align_content": null,
            "align_items": null,
            "align_self": null,
            "border": null,
            "bottom": null,
            "display": null,
            "flex": null,
            "flex_flow": null,
            "grid_area": null,
            "grid_auto_columns": null,
            "grid_auto_flow": null,
            "grid_auto_rows": null,
            "grid_column": null,
            "grid_gap": null,
            "grid_row": null,
            "grid_template_areas": null,
            "grid_template_columns": null,
            "grid_template_rows": null,
            "height": null,
            "justify_content": null,
            "justify_items": null,
            "left": null,
            "margin": null,
            "max_height": null,
            "max_width": null,
            "min_height": null,
            "min_width": null,
            "object_fit": null,
            "object_position": null,
            "order": null,
            "overflow": null,
            "overflow_x": null,
            "overflow_y": null,
            "padding": null,
            "right": null,
            "top": null,
            "visibility": null,
            "width": null
          }
        }
      }
    }
  },
  "nbformat_minor": 0,
  "nbformat": 4,
  "cells": [
    {
      "cell_type": "code",
      "source": [
        "!pip install langchain openai\n",
        "!pip install --upgrade langchain langchain-community openai"
      ],
      "metadata": {
        "colab": {
          "base_uri": "https://localhost:8080/"
        },
        "id": "xn_leGEy6h_w",
        "outputId": "31c3a39e-35d8-47f9-84aa-a8b13a456739",
        "collapsed": true
      },
      "execution_count": null,
      "outputs": [
        {
          "output_type": "stream",
          "name": "stdout",
          "text": [
            "Requirement already satisfied: langchain in /usr/local/lib/python3.11/dist-packages (0.3.17)\n",
            "Requirement already satisfied: openai in /usr/local/lib/python3.11/dist-packages (1.61.1)\n",
            "Requirement already satisfied: PyYAML>=5.3 in /usr/local/lib/python3.11/dist-packages (from langchain) (6.0.2)\n",
            "Requirement already satisfied: SQLAlchemy<3,>=1.4 in /usr/local/lib/python3.11/dist-packages (from langchain) (2.0.37)\n",
            "Requirement already satisfied: aiohttp<4.0.0,>=3.8.3 in /usr/local/lib/python3.11/dist-packages (from langchain) (3.11.12)\n",
            "Requirement already satisfied: langchain-core<0.4.0,>=0.3.33 in /usr/local/lib/python3.11/dist-packages (from langchain) (0.3.33)\n",
            "Requirement already satisfied: langchain-text-splitters<0.4.0,>=0.3.3 in /usr/local/lib/python3.11/dist-packages (from langchain) (0.3.5)\n",
            "Requirement already satisfied: langsmith<0.4,>=0.1.17 in /usr/local/lib/python3.11/dist-packages (from langchain) (0.3.6)\n",
            "Requirement already satisfied: numpy<2,>=1.22.4 in /usr/local/lib/python3.11/dist-packages (from langchain) (1.26.4)\n",
            "Requirement already satisfied: pydantic<3.0.0,>=2.7.4 in /usr/local/lib/python3.11/dist-packages (from langchain) (2.10.6)\n",
            "Requirement already satisfied: requests<3,>=2 in /usr/local/lib/python3.11/dist-packages (from langchain) (2.32.3)\n",
            "Requirement already satisfied: tenacity!=8.4.0,<10,>=8.1.0 in /usr/local/lib/python3.11/dist-packages (from langchain) (9.0.0)\n",
            "Requirement already satisfied: anyio<5,>=3.5.0 in /usr/local/lib/python3.11/dist-packages (from openai) (3.7.1)\n",
            "Requirement already satisfied: distro<2,>=1.7.0 in /usr/local/lib/python3.11/dist-packages (from openai) (1.9.0)\n",
            "Requirement already satisfied: httpx<1,>=0.23.0 in /usr/local/lib/python3.11/dist-packages (from openai) (0.28.1)\n",
            "Requirement already satisfied: jiter<1,>=0.4.0 in /usr/local/lib/python3.11/dist-packages (from openai) (0.8.2)\n",
            "Requirement already satisfied: sniffio in /usr/local/lib/python3.11/dist-packages (from openai) (1.3.1)\n",
            "Requirement already satisfied: tqdm>4 in /usr/local/lib/python3.11/dist-packages (from openai) (4.67.1)\n",
            "Requirement already satisfied: typing-extensions<5,>=4.11 in /usr/local/lib/python3.11/dist-packages (from openai) (4.12.2)\n",
            "Requirement already satisfied: aiohappyeyeballs>=2.3.0 in /usr/local/lib/python3.11/dist-packages (from aiohttp<4.0.0,>=3.8.3->langchain) (2.4.4)\n",
            "Requirement already satisfied: aiosignal>=1.1.2 in /usr/local/lib/python3.11/dist-packages (from aiohttp<4.0.0,>=3.8.3->langchain) (1.3.2)\n",
            "Requirement already satisfied: attrs>=17.3.0 in /usr/local/lib/python3.11/dist-packages (from aiohttp<4.0.0,>=3.8.3->langchain) (25.1.0)\n",
            "Requirement already satisfied: frozenlist>=1.1.1 in /usr/local/lib/python3.11/dist-packages (from aiohttp<4.0.0,>=3.8.3->langchain) (1.5.0)\n",
            "Requirement already satisfied: multidict<7.0,>=4.5 in /usr/local/lib/python3.11/dist-packages (from aiohttp<4.0.0,>=3.8.3->langchain) (6.1.0)\n",
            "Requirement already satisfied: propcache>=0.2.0 in /usr/local/lib/python3.11/dist-packages (from aiohttp<4.0.0,>=3.8.3->langchain) (0.2.1)\n",
            "Requirement already satisfied: yarl<2.0,>=1.17.0 in /usr/local/lib/python3.11/dist-packages (from aiohttp<4.0.0,>=3.8.3->langchain) (1.18.3)\n",
            "Requirement already satisfied: idna>=2.8 in /usr/local/lib/python3.11/dist-packages (from anyio<5,>=3.5.0->openai) (3.10)\n",
            "Requirement already satisfied: certifi in /usr/local/lib/python3.11/dist-packages (from httpx<1,>=0.23.0->openai) (2025.1.31)\n",
            "Requirement already satisfied: httpcore==1.* in /usr/local/lib/python3.11/dist-packages (from httpx<1,>=0.23.0->openai) (1.0.7)\n",
            "Requirement already satisfied: h11<0.15,>=0.13 in /usr/local/lib/python3.11/dist-packages (from httpcore==1.*->httpx<1,>=0.23.0->openai) (0.14.0)\n",
            "Requirement already satisfied: jsonpatch<2.0,>=1.33 in /usr/local/lib/python3.11/dist-packages (from langchain-core<0.4.0,>=0.3.33->langchain) (1.33)\n",
            "Requirement already satisfied: packaging<25,>=23.2 in /usr/local/lib/python3.11/dist-packages (from langchain-core<0.4.0,>=0.3.33->langchain) (24.2)\n",
            "Requirement already satisfied: orjson<4.0.0,>=3.9.14 in /usr/local/lib/python3.11/dist-packages (from langsmith<0.4,>=0.1.17->langchain) (3.10.15)\n",
            "Requirement already satisfied: requests-toolbelt<2.0.0,>=1.0.0 in /usr/local/lib/python3.11/dist-packages (from langsmith<0.4,>=0.1.17->langchain) (1.0.0)\n",
            "Requirement already satisfied: zstandard<0.24.0,>=0.23.0 in /usr/local/lib/python3.11/dist-packages (from langsmith<0.4,>=0.1.17->langchain) (0.23.0)\n",
            "Requirement already satisfied: annotated-types>=0.6.0 in /usr/local/lib/python3.11/dist-packages (from pydantic<3.0.0,>=2.7.4->langchain) (0.7.0)\n",
            "Requirement already satisfied: pydantic-core==2.27.2 in /usr/local/lib/python3.11/dist-packages (from pydantic<3.0.0,>=2.7.4->langchain) (2.27.2)\n",
            "Requirement already satisfied: charset-normalizer<4,>=2 in /usr/local/lib/python3.11/dist-packages (from requests<3,>=2->langchain) (3.4.1)\n",
            "Requirement already satisfied: urllib3<3,>=1.21.1 in /usr/local/lib/python3.11/dist-packages (from requests<3,>=2->langchain) (2.3.0)\n",
            "Requirement already satisfied: greenlet!=0.4.17 in /usr/local/lib/python3.11/dist-packages (from SQLAlchemy<3,>=1.4->langchain) (3.1.1)\n",
            "Requirement already satisfied: jsonpointer>=1.9 in /usr/local/lib/python3.11/dist-packages (from jsonpatch<2.0,>=1.33->langchain-core<0.4.0,>=0.3.33->langchain) (3.0.0)\n",
            "Requirement already satisfied: langchain in /usr/local/lib/python3.11/dist-packages (0.3.17)\n",
            "Collecting langchain\n",
            "  Downloading langchain-0.3.18-py3-none-any.whl.metadata (7.8 kB)\n",
            "Collecting langchain-community\n",
            "  Downloading langchain_community-0.3.17-py3-none-any.whl.metadata (2.4 kB)\n",
            "Requirement already satisfied: openai in /usr/local/lib/python3.11/dist-packages (1.61.1)\n",
            "Collecting openai\n",
            "  Downloading openai-1.62.0-py3-none-any.whl.metadata (27 kB)\n",
            "Collecting langchain-core<1.0.0,>=0.3.34 (from langchain)\n",
            "  Downloading langchain_core-0.3.35-py3-none-any.whl.metadata (5.9 kB)\n",
            "Collecting langchain-text-splitters<1.0.0,>=0.3.6 (from langchain)\n",
            "  Downloading langchain_text_splitters-0.3.6-py3-none-any.whl.metadata (1.9 kB)\n",
            "Requirement already satisfied: langsmith<0.4,>=0.1.17 in /usr/local/lib/python3.11/dist-packages (from langchain) (0.3.6)\n",
            "Requirement already satisfied: pydantic<3.0.0,>=2.7.4 in /usr/local/lib/python3.11/dist-packages (from langchain) (2.10.6)\n",
            "Requirement already satisfied: SQLAlchemy<3,>=1.4 in /usr/local/lib/python3.11/dist-packages (from langchain) (2.0.37)\n",
            "Requirement already satisfied: requests<3,>=2 in /usr/local/lib/python3.11/dist-packages (from langchain) (2.32.3)\n",
            "Requirement already satisfied: PyYAML>=5.3 in /usr/local/lib/python3.11/dist-packages (from langchain) (6.0.2)\n",
            "Requirement already satisfied: aiohttp<4.0.0,>=3.8.3 in /usr/local/lib/python3.11/dist-packages (from langchain) (3.11.12)\n",
            "Requirement already satisfied: tenacity!=8.4.0,<10,>=8.1.0 in /usr/local/lib/python3.11/dist-packages (from langchain) (9.0.0)\n",
            "Requirement already satisfied: numpy<2,>=1.26.4 in /usr/local/lib/python3.11/dist-packages (from langchain) (1.26.4)\n",
            "Collecting dataclasses-json<0.7,>=0.5.7 (from langchain-community)\n",
            "  Downloading dataclasses_json-0.6.7-py3-none-any.whl.metadata (25 kB)\n",
            "Collecting pydantic-settings<3.0.0,>=2.4.0 (from langchain-community)\n",
            "  Downloading pydantic_settings-2.7.1-py3-none-any.whl.metadata (3.5 kB)\n",
            "Collecting httpx-sse<1.0.0,>=0.4.0 (from langchain-community)\n",
            "  Downloading httpx_sse-0.4.0-py3-none-any.whl.metadata (9.0 kB)\n",
            "Requirement already satisfied: anyio<5,>=3.5.0 in /usr/local/lib/python3.11/dist-packages (from openai) (3.7.1)\n",
            "Requirement already satisfied: distro<2,>=1.7.0 in /usr/local/lib/python3.11/dist-packages (from openai) (1.9.0)\n",
            "Requirement already satisfied: httpx<1,>=0.23.0 in /usr/local/lib/python3.11/dist-packages (from openai) (0.28.1)\n",
            "Requirement already satisfied: jiter<1,>=0.4.0 in /usr/local/lib/python3.11/dist-packages (from openai) (0.8.2)\n",
            "Requirement already satisfied: sniffio in /usr/local/lib/python3.11/dist-packages (from openai) (1.3.1)\n",
            "Requirement already satisfied: tqdm>4 in /usr/local/lib/python3.11/dist-packages (from openai) (4.67.1)\n",
            "Requirement already satisfied: typing-extensions<5,>=4.11 in /usr/local/lib/python3.11/dist-packages (from openai) (4.12.2)\n",
            "Requirement already satisfied: aiohappyeyeballs>=2.3.0 in /usr/local/lib/python3.11/dist-packages (from aiohttp<4.0.0,>=3.8.3->langchain) (2.4.4)\n",
            "Requirement already satisfied: aiosignal>=1.1.2 in /usr/local/lib/python3.11/dist-packages (from aiohttp<4.0.0,>=3.8.3->langchain) (1.3.2)\n",
            "Requirement already satisfied: attrs>=17.3.0 in /usr/local/lib/python3.11/dist-packages (from aiohttp<4.0.0,>=3.8.3->langchain) (25.1.0)\n",
            "Requirement already satisfied: frozenlist>=1.1.1 in /usr/local/lib/python3.11/dist-packages (from aiohttp<4.0.0,>=3.8.3->langchain) (1.5.0)\n",
            "Requirement already satisfied: multidict<7.0,>=4.5 in /usr/local/lib/python3.11/dist-packages (from aiohttp<4.0.0,>=3.8.3->langchain) (6.1.0)\n",
            "Requirement already satisfied: propcache>=0.2.0 in /usr/local/lib/python3.11/dist-packages (from aiohttp<4.0.0,>=3.8.3->langchain) (0.2.1)\n",
            "Requirement already satisfied: yarl<2.0,>=1.17.0 in /usr/local/lib/python3.11/dist-packages (from aiohttp<4.0.0,>=3.8.3->langchain) (1.18.3)\n",
            "Requirement already satisfied: idna>=2.8 in /usr/local/lib/python3.11/dist-packages (from anyio<5,>=3.5.0->openai) (3.10)\n",
            "Collecting marshmallow<4.0.0,>=3.18.0 (from dataclasses-json<0.7,>=0.5.7->langchain-community)\n",
            "  Downloading marshmallow-3.26.1-py3-none-any.whl.metadata (7.3 kB)\n",
            "Collecting typing-inspect<1,>=0.4.0 (from dataclasses-json<0.7,>=0.5.7->langchain-community)\n",
            "  Downloading typing_inspect-0.9.0-py3-none-any.whl.metadata (1.5 kB)\n",
            "Requirement already satisfied: certifi in /usr/local/lib/python3.11/dist-packages (from httpx<1,>=0.23.0->openai) (2025.1.31)\n",
            "Requirement already satisfied: httpcore==1.* in /usr/local/lib/python3.11/dist-packages (from httpx<1,>=0.23.0->openai) (1.0.7)\n",
            "Requirement already satisfied: h11<0.15,>=0.13 in /usr/local/lib/python3.11/dist-packages (from httpcore==1.*->httpx<1,>=0.23.0->openai) (0.14.0)\n",
            "Requirement already satisfied: jsonpatch<2.0,>=1.33 in /usr/local/lib/python3.11/dist-packages (from langchain-core<1.0.0,>=0.3.34->langchain) (1.33)\n",
            "Requirement already satisfied: packaging<25,>=23.2 in /usr/local/lib/python3.11/dist-packages (from langchain-core<1.0.0,>=0.3.34->langchain) (24.2)\n",
            "Requirement already satisfied: orjson<4.0.0,>=3.9.14 in /usr/local/lib/python3.11/dist-packages (from langsmith<0.4,>=0.1.17->langchain) (3.10.15)\n",
            "Requirement already satisfied: requests-toolbelt<2.0.0,>=1.0.0 in /usr/local/lib/python3.11/dist-packages (from langsmith<0.4,>=0.1.17->langchain) (1.0.0)\n",
            "Requirement already satisfied: zstandard<0.24.0,>=0.23.0 in /usr/local/lib/python3.11/dist-packages (from langsmith<0.4,>=0.1.17->langchain) (0.23.0)\n",
            "Requirement already satisfied: annotated-types>=0.6.0 in /usr/local/lib/python3.11/dist-packages (from pydantic<3.0.0,>=2.7.4->langchain) (0.7.0)\n",
            "Requirement already satisfied: pydantic-core==2.27.2 in /usr/local/lib/python3.11/dist-packages (from pydantic<3.0.0,>=2.7.4->langchain) (2.27.2)\n",
            "Collecting python-dotenv>=0.21.0 (from pydantic-settings<3.0.0,>=2.4.0->langchain-community)\n",
            "  Downloading python_dotenv-1.0.1-py3-none-any.whl.metadata (23 kB)\n",
            "Requirement already satisfied: charset-normalizer<4,>=2 in /usr/local/lib/python3.11/dist-packages (from requests<3,>=2->langchain) (3.4.1)\n",
            "Requirement already satisfied: urllib3<3,>=1.21.1 in /usr/local/lib/python3.11/dist-packages (from requests<3,>=2->langchain) (2.3.0)\n",
            "Requirement already satisfied: greenlet!=0.4.17 in /usr/local/lib/python3.11/dist-packages (from SQLAlchemy<3,>=1.4->langchain) (3.1.1)\n",
            "Requirement already satisfied: jsonpointer>=1.9 in /usr/local/lib/python3.11/dist-packages (from jsonpatch<2.0,>=1.33->langchain-core<1.0.0,>=0.3.34->langchain) (3.0.0)\n",
            "Collecting mypy-extensions>=0.3.0 (from typing-inspect<1,>=0.4.0->dataclasses-json<0.7,>=0.5.7->langchain-community)\n",
            "  Downloading mypy_extensions-1.0.0-py3-none-any.whl.metadata (1.1 kB)\n",
            "Downloading langchain-0.3.18-py3-none-any.whl (1.0 MB)\n",
            "\u001b[2K   \u001b[90m━━━━━━━━━━━━━━━━━━━━━━━━━━━━━━━━━━━━━━━━\u001b[0m \u001b[32m1.0/1.0 MB\u001b[0m \u001b[31m16.2 MB/s\u001b[0m eta \u001b[36m0:00:00\u001b[0m\n",
            "\u001b[?25hDownloading langchain_community-0.3.17-py3-none-any.whl (2.5 MB)\n",
            "\u001b[2K   \u001b[90m━━━━━━━━━━━━━━━━━━━━━━━━━━━━━━━━━━━━━━━━\u001b[0m \u001b[32m2.5/2.5 MB\u001b[0m \u001b[31m66.4 MB/s\u001b[0m eta \u001b[36m0:00:00\u001b[0m\n",
            "\u001b[?25hDownloading openai-1.62.0-py3-none-any.whl (464 kB)\n",
            "\u001b[2K   \u001b[90m━━━━━━━━━━━━━━━━━━━━━━━━━━━━━━━━━━━━━━━━\u001b[0m \u001b[32m464.8/464.8 kB\u001b[0m \u001b[31m31.1 MB/s\u001b[0m eta \u001b[36m0:00:00\u001b[0m\n",
            "\u001b[?25hDownloading dataclasses_json-0.6.7-py3-none-any.whl (28 kB)\n",
            "Downloading httpx_sse-0.4.0-py3-none-any.whl (7.8 kB)\n",
            "Downloading langchain_core-0.3.35-py3-none-any.whl (413 kB)\n",
            "\u001b[2K   \u001b[90m━━━━━━━━━━━━━━━━━━━━━━━━━━━━━━━━━━━━━━━━\u001b[0m \u001b[32m413.2/413.2 kB\u001b[0m \u001b[31m26.7 MB/s\u001b[0m eta \u001b[36m0:00:00\u001b[0m\n",
            "\u001b[?25hDownloading langchain_text_splitters-0.3.6-py3-none-any.whl (31 kB)\n",
            "Downloading pydantic_settings-2.7.1-py3-none-any.whl (29 kB)\n",
            "Downloading marshmallow-3.26.1-py3-none-any.whl (50 kB)\n",
            "\u001b[2K   \u001b[90m━━━━━━━━━━━━━━━━━━━━━━━━━━━━━━━━━━━━━━━━\u001b[0m \u001b[32m50.9/50.9 kB\u001b[0m \u001b[31m3.9 MB/s\u001b[0m eta \u001b[36m0:00:00\u001b[0m\n",
            "\u001b[?25hDownloading python_dotenv-1.0.1-py3-none-any.whl (19 kB)\n",
            "Downloading typing_inspect-0.9.0-py3-none-any.whl (8.8 kB)\n",
            "Downloading mypy_extensions-1.0.0-py3-none-any.whl (4.7 kB)\n",
            "Installing collected packages: python-dotenv, mypy-extensions, marshmallow, httpx-sse, typing-inspect, pydantic-settings, openai, dataclasses-json, langchain-core, langchain-text-splitters, langchain, langchain-community\n",
            "  Attempting uninstall: openai\n",
            "    Found existing installation: openai 1.61.1\n",
            "    Uninstalling openai-1.61.1:\n",
            "      Successfully uninstalled openai-1.61.1\n",
            "  Attempting uninstall: langchain-core\n",
            "    Found existing installation: langchain-core 0.3.33\n",
            "    Uninstalling langchain-core-0.3.33:\n",
            "      Successfully uninstalled langchain-core-0.3.33\n",
            "  Attempting uninstall: langchain-text-splitters\n",
            "    Found existing installation: langchain-text-splitters 0.3.5\n",
            "    Uninstalling langchain-text-splitters-0.3.5:\n",
            "      Successfully uninstalled langchain-text-splitters-0.3.5\n",
            "  Attempting uninstall: langchain\n",
            "    Found existing installation: langchain 0.3.17\n",
            "    Uninstalling langchain-0.3.17:\n",
            "      Successfully uninstalled langchain-0.3.17\n",
            "Successfully installed dataclasses-json-0.6.7 httpx-sse-0.4.0 langchain-0.3.18 langchain-community-0.3.17 langchain-core-0.3.35 langchain-text-splitters-0.3.6 marshmallow-3.26.1 mypy-extensions-1.0.0 openai-1.62.0 pydantic-settings-2.7.1 python-dotenv-1.0.1 typing-inspect-0.9.0\n"
          ]
        }
      ]
    },
    {
      "cell_type": "code",
      "source": [
        "# Import necessary libraries\n",
        "from transformers import pipeline  # For using Hugging Face models\n",
        "from langchain.llms.base import LLM  # Base class for LangChain LLMs\n",
        "from transformers import AutoTokenizer  # For tokenizing input text\n",
        "import json  # For loading the product catalog from a JSON file\n",
        "import logging  # For suppressing unnecessary logs\n",
        "\n",
        "# Suppress logs from the transformers library to avoid clutter\n",
        "logging.getLogger(\"transformers\").setLevel(logging.ERROR)\n"
      ],
      "metadata": {
        "trusted": true,
        "id": "qy4ML9PAiGJr"
      },
      "outputs": [],
      "execution_count": null
    },
    {
      "cell_type": "code",
      "source": [
        "#open the Json file that includes the product catalog\n",
        "with open('product_catalog.json','r') as file:\n",
        "    product_catalog = json.load(file)\n",
        "\n",
        "# Print the product catalog\n",
        "print(product_catalog)\n",
        "products = product_catalog[\"products\"]"
      ],
      "metadata": {
        "trusted": true,
        "colab": {
          "base_uri": "https://localhost:8080/"
        },
        "id": "694JgkwGiGJv",
        "outputId": "e7e7f7b3-0b13-4a2b-ba28-3ea0a290f22a"
      },
      "outputs": [
        {
          "output_type": "stream",
          "name": "stdout",
          "text": [
            "{'products': [{'id': 1, 'name': 'Wireless Earbuds', 'price': 15.99, 'category': 'Electronics', 'description': 'High-quality wireless earbuds with noise cancellation.', 'delivery_charge': 5.0, 'availability': True}, {'id': 2, 'name': 'Bluetooth Speaker', 'price': 25.99, 'category': 'Electronics', 'description': 'Portable Bluetooth speaker with 10-hour battery life.', 'delivery_charge': 7.0, 'availability': True}, {'id': 3, 'name': 'Coffee Maker', 'price': 45.99, 'category': 'Home Appliances', 'description': 'Automatic coffee maker with programmable settings.', 'delivery_charge': 10.0, 'availability': False}, {'id': 4, 'name': 'Running Shoes', 'price': 19.99, 'category': 'Sports', 'description': 'Lightweight running shoes with cushioned soles.', 'delivery_charge': 5.0, 'availability': True}, {'id': 5, 'name': 'Smart Watch', 'price': 99.99, 'category': 'Electronics', 'description': 'Smart watch with heart rate monitoring.', 'delivery_charge': 8.0, 'availability': True}, {'id': 6, 'name': 'Yoga Mat', 'price': 12.99, 'category': 'Sports', 'description': 'Eco-friendly yoga mat with non-slip surface.', 'delivery_charge': 4.0, 'availability': True}, {'id': 7, 'name': 'Electric Kettle', 'price': 29.99, 'category': 'Home Appliances', 'description': 'Stainless steel electric kettle with auto-shutoff.', 'delivery_charge': 6.0, 'availability': True}, {'id': 8, 'name': 'Laptop Backpack', 'price': 34.99, 'category': 'Accessories', 'description': 'Water-resistant laptop backpack with USB charging port.', 'delivery_charge': 7.0, 'availability': True}, {'id': 9, 'name': 'Wireless Mouse', 'price': 9.99, 'category': 'Electronics', 'description': 'Ergonomic wireless mouse with silent click.', 'delivery_charge': 3.0, 'availability': True}, {'id': 10, 'name': 'Air Fryer', 'price': 89.99, 'category': 'Home Appliances', 'description': 'Digital air fryer with touchscreen controls.', 'delivery_charge': 12.0, 'availability': False}, {'id': 11, 'name': 'LED Desk Lamp', 'price': 22.99, 'category': 'Home Appliances', 'description': 'Adjustable LED desk lamp with USB port.', 'delivery_charge': 5.0, 'availability': True}, {'id': 12, 'name': 'Gaming Keyboard', 'price': 49.99, 'category': 'Electronics', 'description': 'Mechanical gaming keyboard with RGB lighting.', 'delivery_charge': 8.0, 'availability': True}, {'id': 13, 'name': 'Water Bottle', 'price': 8.99, 'category': 'Accessories', 'description': 'Insulated stainless steel water bottle.', 'delivery_charge': 3.0, 'availability': True}, {'id': 14, 'name': 'Blender', 'price': 39.99, 'category': 'Home Appliances', 'description': 'High-speed blender with 2-liter capacity.', 'delivery_charge': 9.0, 'availability': True}, {'id': 15, 'name': 'Fitness Tracker', 'price': 59.99, 'category': 'Electronics', 'description': 'Fitness tracker with heart rate and sleep monitoring.', 'delivery_charge': 6.0, 'availability': True}]}\n"
          ]
        }
      ],
      "execution_count": null
    },
    {
      "cell_type": "code",
      "source": [
        "# Define a custom LLM class that integrates with LangChain\n",
        "class HuggingFaceLLM(LLM):\n",
        "    def _call(self, prompt: str, stop=None) -> str:\n",
        "        \"\"\"\n",
        "        Generate a response using the Hugging Face GPT-2 model.\n",
        "        Args:\n",
        "            prompt (str): The user's query.\n",
        "            stop (optional): Tokens to stop generation. Defaults to None.\n",
        "        Returns:\n",
        "            str: The generated response.\n",
        "        \"\"\"\n",
        "        # Load the tokenizer and model\n",
        "        tokenizer = AutoTokenizer.from_pretrained(\"gpt2\", max_length=512, truncation=True)\n",
        "        chatbot = pipeline(\"text-generation\", model=\"gpt2\",tokenizer=tokenizer,framework=\"tf\")\n",
        "        # Generate a response with a maximum of 50 new tokens\n",
        "        response = chatbot(prompt, max_new_tokens=50)\n",
        "        return response[0]['generated_text']\n",
        "\n",
        "    @property\n",
        "    def _llm_type(self) -> str:\n",
        "        \"\"\"\n",
        "        Return the type of LLM being used.\n",
        "        \"\"\"\n",
        "        return \"huggingface-gpt2\"\n",
        "\n",
        "# Create an instance of the custom LLM\n",
        "huggingface_llm = HuggingFaceLLM()"
      ],
      "metadata": {
        "id": "sGIDVygBiGJw"
      },
      "outputs": [],
      "execution_count": null
    },
    {
      "cell_type": "code",
      "source": [
        "\n",
        "from langchain.chat_models import ChatOpenAI\n",
        "from langchain.chains import ConversationChain\n",
        "from langchain.memory import ConversationBufferMemory\n",
        "import openai\n",
        "\n",
        "\n",
        "# Set your OpenAI API key\n",
        "openai.api_key = \"your-api-key\"\n",
        "\n",
        "# Initialize memory for multi-turn conversation\n",
        "memory = ConversationBufferMemory()\n",
        "\n",
        "# Initialize LLM with OpenAI's GPT-4\n",
        "llm = ChatOpenAI(model_name=\"gpt-4\", openai_api_key=openai.api_key)\n",
        "\n",
        "# Create a conversation chain with memory\n",
        "conversation = ConversationChain(\n",
        "    llm=llm,\n",
        "    memory=memory\n",
        ")\n",
        "\n"
      ],
      "metadata": {
        "id": "ZXSY51vV2wCG",
        "colab": {
          "base_uri": "https://localhost:8080/"
        },
        "outputId": "661c2309-0aad-4353-d8e4-e675dcb3cd4b"
      },
      "execution_count": null,
      "outputs": [
        {
          "output_type": "stream",
          "name": "stderr",
          "text": [
            "<ipython-input-5-39d2bd358452>:11: LangChainDeprecationWarning: Please see the migration guide at: https://python.langchain.com/docs/versions/migrating_memory/\n",
            "  memory = ConversationBufferMemory()\n",
            "<ipython-input-5-39d2bd358452>:14: LangChainDeprecationWarning: The class `ChatOpenAI` was deprecated in LangChain 0.0.10 and will be removed in 1.0. An updated version of the class exists in the :class:`~langchain-openai package and should be used instead. To use it run `pip install -U :class:`~langchain-openai` and import as `from :class:`~langchain_openai import ChatOpenAI``.\n",
            "  llm = ChatOpenAI(model_name=\"gpt-4\", openai_api_key=openai.api_key)\n",
            "<ipython-input-5-39d2bd358452>:17: LangChainDeprecationWarning: The class `ConversationChain` was deprecated in LangChain 0.2.7 and will be removed in 1.0. Use :meth:`~RunnableWithMessageHistory: https://python.langchain.com/v0.2/api_reference/core/runnables/langchain_core.runnables.history.RunnableWithMessageHistory.html` instead.\n",
            "  conversation = ConversationChain(\n"
          ]
        }
      ]
    },
    {
      "cell_type": "code",
      "source": [
        "\n",
        "# Filter products based on the query\n",
        "def filter_products(query, products):\n",
        "    \"\"\"\n",
        "    Filter products based on the user's query.\n",
        "    Args:\n",
        "        query (str): The user's query.\n",
        "        products (list): The list of products to filter.\n",
        "    Returns:\n",
        "        list or str: Filtered products or a specific response (e.g., delivery charge).\n",
        "    \"\"\"\n",
        "    query = query.lower()  # Make the query case-insensitive\n",
        "\n",
        "    # Store query in memory\n",
        "    memory.save_context({\"input\": query}, {\"output\": \"Processing query...\"})\n",
        "\n",
        "    # Retrieve past conversation history\n",
        "    past_conversation = memory.buffer\n",
        "   # print(\"Memory buffer:\", past_conversation)  # Debugging: See stored memory\n",
        "\n",
        "    # Check if the user asks a follow-up question\n",
        "    if \"which one\" in query or \"what about\" in query or \"any other\" in query:\n",
        "        last_query = past_conversation.split(\"\\n\")[-2]  # Get last query\n",
        "        #print(\"Previous query:\", last_query)  # Debugging\n",
        "\n",
        "        # If last query was about a category or price, repeat the search\n",
        "        return filter_products(last_query, products)\n",
        "\n",
        "   # last_product=memory.load_memory_variables({})\n",
        "\n",
        "    # Handling follow-up question: \"How much does it cost?\"\n",
        "\n",
        "   # Handling follow-up question: \"How much does it cost?\"\n",
        "    if \"how much does it cost\" in query or \"price\" in query:\n",
        "        # Retrieve the last product mentioned from memory\n",
        "        last_product = memory.load_memory_variables({}).get(\"history\", \"\")\n",
        "        if last_product:\n",
        "            # Extract the last product name from the conversation history\n",
        "            for p in products:\n",
        "                if p[\"name\"].lower() in last_product.lower():\n",
        "                    return f\"{p['name']} costs ${p['price']}.\"\n",
        "        return \"Please specify a product name.\"\n",
        "\n",
        "    # Handle price-based queries (e.g., \"under $20\")\n",
        "    if \"under\" in query and \"$\" in query:\n",
        "        price_limit = int(query.split(\"under\")[1].strip().replace(\"$\", \"\"))\n",
        "        return [p for p in products if p[\"price\"] < price_limit]\n",
        "\n",
        "    # Handle category-based queries (e.g., \"find me electronics\")\n",
        "    elif \"category\" in query or any(word in query for word in [\"electronics\", \"sports\", \"home appliances\", \"accessories\"]):\n",
        "        category = None\n",
        "        if \"electronics\" in query:\n",
        "            category = \"Electronics\"\n",
        "        elif \"sports\" in query:\n",
        "            category = \"Sports\"\n",
        "        elif \"home appliances\" in query:\n",
        "            category = \"Home Appliances\"\n",
        "        elif \"accessories\" in query:\n",
        "            category = \"Accessories\"\n",
        "        if category:\n",
        "            return [p for p in products if p[\"category\"].lower() == category.lower()]\n",
        "\n",
        "    # Handle availability-based queries (e.g., \"show me available products\")\n",
        "    elif \"available\" in query or \"in stock\" in query:\n",
        "        return [p for p in products if p[\"availability\"]]\n",
        "\n",
        "    # Handle delivery charge queries (e.g., \"what is the delivery charge for this product?\")\n",
        "    elif \"delivery charge\" in query or \"delivery cost\" in query:\n",
        "        # Extract the product name more robustly\n",
        "        product_name = None\n",
        "        if \"for\" in query:\n",
        "            product_name = query.split(\"for\")[1].strip()\n",
        "        elif \"of\" in query:\n",
        "            product_name = query.split(\"of\")[1].strip()\n",
        "\n",
        "        if product_name:\n",
        "            # Remove any trailing punctuation or question marks\n",
        "            product_name = product_name.rstrip(\"?.,\")\n",
        "\n",
        "            # Find the product in the catalog\n",
        "            for p in products:\n",
        "                if p[\"name\"].lower() == product_name.lower():\n",
        "                    return f\"The delivery charge for {p['name']} is ${p['delivery_charge']}.\"\n",
        "\n",
        "        return \"Please specify a product to check the delivery charge.\"\n",
        "\n",
        "    # Default: Return all products if no specific query is matched\n",
        "    return products\n"
      ],
      "metadata": {
        "id": "t2MtJe6diGJx"
      },
      "outputs": [],
      "execution_count": null
    },
    {
      "cell_type": "code",
      "source": [
        "# Chatbot function\n",
        "def chatbot(query, products):\n",
        "    \"\"\"\n",
        "    Generate a response to the user's query.\n",
        "    Args:\n",
        "        query (str): The user's query.\n",
        "        products (list): The list of products to filter.\n",
        "    Returns:\n",
        "        str: The chatbot's response.\n",
        "    \"\"\"\n",
        "    filtered_products = filter_products(query, products)\n",
        "\n",
        "    # Handle delivery charge queries separately\n",
        "    if isinstance(filtered_products, str):\n",
        "        return filtered_products\n",
        "\n",
        "    # Create a structured response\n",
        "    if not filtered_products:\n",
        "        return \"No products found matching your query.\"\n",
        "\n",
        "    response = f\"Here are the products based on your query:\\n\"\n",
        "    for product in filtered_products:\n",
        "        response += f\"- {product['name']} (${product['price']}, {product['category']}, Delivery: ${product['delivery_charge']}, Available: {product['availability']})\\n\"\n",
        "\n",
        "    return response"
      ],
      "metadata": {
        "id": "_ZOYmKZ-nC-D"
      },
      "execution_count": null,
      "outputs": []
    },
    {
      "cell_type": "code",
      "source": [
        "# Test the chatbot\n",
        "print(chatbot(\"Find me all products under $20\", products))\n",
        "print(chatbot(\"Show me all electronics\", products))\n",
        "print(chatbot(\"What is the delivery charge for Wireless Earbuds?\", products))\n",
        "print(chatbot(\"How much does it cost\", products))\n",
        "print(chatbot(\"Show me available products\", products))\n"
      ],
      "metadata": {
        "trusted": true,
        "colab": {
          "base_uri": "https://localhost:8080/"
        },
        "id": "1ec0KW__iGJy",
        "outputId": "ec7a777a-2e4f-489e-de56-29cc9602435f"
      },
      "outputs": [
        {
          "output_type": "stream",
          "name": "stdout",
          "text": [
            "Here are the products based on your query:\n",
            "- Wireless Earbuds ($15.99, Electronics, Delivery: $5.0, Available: True)\n",
            "- Running Shoes ($19.99, Sports, Delivery: $5.0, Available: True)\n",
            "- Yoga Mat ($12.99, Sports, Delivery: $4.0, Available: True)\n",
            "- Wireless Mouse ($9.99, Electronics, Delivery: $3.0, Available: True)\n",
            "- Water Bottle ($8.99, Accessories, Delivery: $3.0, Available: True)\n",
            "\n",
            "Here are the products based on your query:\n",
            "- Wireless Earbuds ($15.99, Electronics, Delivery: $5.0, Available: True)\n",
            "- Bluetooth Speaker ($25.99, Electronics, Delivery: $7.0, Available: True)\n",
            "- Smart Watch ($99.99, Electronics, Delivery: $8.0, Available: True)\n",
            "- Wireless Mouse ($9.99, Electronics, Delivery: $3.0, Available: True)\n",
            "- Gaming Keyboard ($49.99, Electronics, Delivery: $8.0, Available: True)\n",
            "- Fitness Tracker ($59.99, Electronics, Delivery: $6.0, Available: True)\n",
            "\n",
            "The delivery charge for Wireless Earbuds is $5.0.\n",
            "Wireless Earbuds costs $15.99.\n",
            "Here are the products based on your query:\n",
            "- Wireless Earbuds ($15.99, Electronics, Delivery: $5.0, Available: True)\n",
            "- Bluetooth Speaker ($25.99, Electronics, Delivery: $7.0, Available: True)\n",
            "- Running Shoes ($19.99, Sports, Delivery: $5.0, Available: True)\n",
            "- Smart Watch ($99.99, Electronics, Delivery: $8.0, Available: True)\n",
            "- Yoga Mat ($12.99, Sports, Delivery: $4.0, Available: True)\n",
            "- Electric Kettle ($29.99, Home Appliances, Delivery: $6.0, Available: True)\n",
            "- Laptop Backpack ($34.99, Accessories, Delivery: $7.0, Available: True)\n",
            "- Wireless Mouse ($9.99, Electronics, Delivery: $3.0, Available: True)\n",
            "- LED Desk Lamp ($22.99, Home Appliances, Delivery: $5.0, Available: True)\n",
            "- Gaming Keyboard ($49.99, Electronics, Delivery: $8.0, Available: True)\n",
            "- Water Bottle ($8.99, Accessories, Delivery: $3.0, Available: True)\n",
            "- Blender ($39.99, Home Appliances, Delivery: $9.0, Available: True)\n",
            "- Fitness Tracker ($59.99, Electronics, Delivery: $6.0, Available: True)\n",
            "\n"
          ]
        }
      ],
      "execution_count": null
    },
    {
      "cell_type": "code",
      "source": [
        "import ipywidgets as widgets\n",
        "from IPython.display import display, clear_output ,Markdown\n"
      ],
      "metadata": {
        "id": "JC8kab0Ru6nM"
      },
      "execution_count": null,
      "outputs": []
    },
    {
      "cell_type": "code",
      "source": [
        "# Create an input box for user queries\n",
        "input_box = widgets.Text(\n",
        "    placeholder=\"Type your message...\",\n",
        "    description=\"You:\",\n",
        "    layout=widgets.Layout(width=\"80%\")\n",
        ")\n",
        "\n",
        "# Create an output area where chatbot responses will appear\n",
        "output_box = widgets.Output()"
      ],
      "metadata": {
        "id": "M30GRgdRu8MM"
      },
      "execution_count": null,
      "outputs": []
    },
    {
      "cell_type": "code",
      "source": [
        "def chatbot_interaction(change):\n",
        "    user_input = input_box.value.strip()\n",
        "    input_box.value = \"\"  # Clear input box\n",
        "\n",
        "    response = chatbot(user_input, products)  # Get chatbot response\n",
        "\n",
        "    with output_box:\n",
        "        output_box.clear_output()  # Clear previous output\n",
        "        print(f\"You: {user_input}\")\n",
        "        display(Markdown(f\"**Bot:**\\n\\n{response}\"))  # Format response nicely\n",
        "\n",
        "input_box.on_submit(chatbot_interaction)\n",
        "display(input_box, output_box)"
      ],
      "metadata": {
        "colab": {
          "base_uri": "https://localhost:8080/",
          "height": 66,
          "referenced_widgets": [
            "e8470f33091e467f964af183f94c4f25",
            "029975c290ff490c8ae9d155aad15dbf",
            "3ad68431ede6482988ef0577b5d9813b",
            "ed1efd383bef4ad99041679cf0c3f8a0",
            "2c974188607b441b93c67cc07daf38c8"
          ]
        },
        "id": "X-QmidBTvALT",
        "outputId": "51d9e067-a260-4484-86fb-fd9ee43462ed"
      },
      "execution_count": null,
      "outputs": [
        {
          "output_type": "display_data",
          "data": {
            "text/plain": [
              "Text(value='', description='You:', layout=Layout(width='80%'), placeholder='Type your message...')"
            ],
            "application/vnd.jupyter.widget-view+json": {
              "version_major": 2,
              "version_minor": 0,
              "model_id": "e8470f33091e467f964af183f94c4f25"
            }
          },
          "metadata": {}
        },
        {
          "output_type": "display_data",
          "data": {
            "text/plain": [
              "Output()"
            ],
            "application/vnd.jupyter.widget-view+json": {
              "version_major": 2,
              "version_minor": 0,
              "model_id": "ed1efd383bef4ad99041679cf0c3f8a0"
            }
          },
          "metadata": {}
        }
      ]
    }
  ]
}